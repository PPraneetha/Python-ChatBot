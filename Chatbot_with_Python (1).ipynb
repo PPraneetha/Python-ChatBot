{
  "nbformat": 4,
  "nbformat_minor": 0,
  "metadata": {
    "colab": {
      "name": "Chatbot with Python.ipynb",
      "provenance": []
    },
    "kernelspec": {
      "name": "python3",
      "display_name": "Python 3"
    }
  },
  "cells": [
    {
      "cell_type": "code",
      "metadata": {
        "id": "YY198iybJu_s",
        "colab_type": "code",
        "colab": {
          "base_uri": "https://localhost:8080/",
          "height": 50
        },
        "outputId": "d9ef39ea-92f1-413e-e173-6c07555de535"
      },
      "source": [
        "pip install nltk"
      ],
      "execution_count": null,
      "outputs": [
        {
          "output_type": "stream",
          "text": [
            "Requirement already satisfied: nltk in /usr/local/lib/python3.6/dist-packages (3.2.5)\n",
            "Requirement already satisfied: six in /usr/local/lib/python3.6/dist-packages (from nltk) (1.12.0)\n"
          ],
          "name": "stdout"
        }
      ]
    },
    {
      "cell_type": "code",
      "metadata": {
        "id": "Zs8dJVJxJ_Mz",
        "colab_type": "code",
        "colab": {
          "base_uri": "https://localhost:8080/",
          "height": 840
        },
        "outputId": "36c031b9-7b8b-40ea-adf7-4d798b7642f6"
      },
      "source": [
        "pip install newspaper3k "
      ],
      "execution_count": null,
      "outputs": [
        {
          "output_type": "stream",
          "text": [
            "Collecting newspaper3k\n",
            "\u001b[?25l  Downloading https://files.pythonhosted.org/packages/d7/b9/51afecb35bb61b188a4b44868001de348a0e8134b4dfa00ffc191567c4b9/newspaper3k-0.2.8-py3-none-any.whl (211kB)\n",
            "\u001b[K     |████████████████████████████████| 215kB 2.8MB/s \n",
            "\u001b[?25hRequirement already satisfied: Pillow>=3.3.0 in /usr/local/lib/python3.6/dist-packages (from newspaper3k) (7.0.0)\n",
            "Requirement already satisfied: beautifulsoup4>=4.4.1 in /usr/local/lib/python3.6/dist-packages (from newspaper3k) (4.6.3)\n",
            "Collecting feedparser>=5.2.1\n",
            "\u001b[?25l  Downloading https://files.pythonhosted.org/packages/91/d8/7d37fec71ff7c9dbcdd80d2b48bcdd86d6af502156fc93846fb0102cb2c4/feedparser-5.2.1.tar.bz2 (192kB)\n",
            "\u001b[K     |████████████████████████████████| 194kB 45.8MB/s \n",
            "\u001b[?25hRequirement already satisfied: PyYAML>=3.11 in /usr/local/lib/python3.6/dist-packages (from newspaper3k) (3.13)\n",
            "Collecting cssselect>=0.9.2\n",
            "  Downloading https://files.pythonhosted.org/packages/3b/d4/3b5c17f00cce85b9a1e6f91096e1cc8e8ede2e1be8e96b87ce1ed09e92c5/cssselect-1.1.0-py2.py3-none-any.whl\n",
            "Requirement already satisfied: python-dateutil>=2.5.3 in /usr/local/lib/python3.6/dist-packages (from newspaper3k) (2.8.1)\n",
            "Requirement already satisfied: lxml>=3.6.0 in /usr/local/lib/python3.6/dist-packages (from newspaper3k) (4.2.6)\n",
            "Collecting feedfinder2>=0.0.4\n",
            "  Downloading https://files.pythonhosted.org/packages/35/82/1251fefec3bb4b03fd966c7e7f7a41c9fc2bb00d823a34c13f847fd61406/feedfinder2-0.0.4.tar.gz\n",
            "Requirement already satisfied: nltk>=3.2.1 in /usr/local/lib/python3.6/dist-packages (from newspaper3k) (3.2.5)\n",
            "Collecting jieba3k>=0.35.1\n",
            "\u001b[?25l  Downloading https://files.pythonhosted.org/packages/a9/cb/2c8332bcdc14d33b0bedd18ae0a4981a069c3513e445120da3c3f23a8aaa/jieba3k-0.35.1.zip (7.4MB)\n",
            "\u001b[K     |████████████████████████████████| 7.4MB 34.3MB/s \n",
            "\u001b[?25hCollecting tldextract>=2.0.1\n",
            "\u001b[?25l  Downloading https://files.pythonhosted.org/packages/fd/0e/9ab599d6e78f0340bb1d1e28ddeacb38c8bb7f91a1b0eae9a24e9603782f/tldextract-2.2.2-py2.py3-none-any.whl (48kB)\n",
            "\u001b[K     |████████████████████████████████| 51kB 6.5MB/s \n",
            "\u001b[?25hRequirement already satisfied: requests>=2.10.0 in /usr/local/lib/python3.6/dist-packages (from newspaper3k) (2.21.0)\n",
            "Collecting tinysegmenter==0.3\n",
            "  Downloading https://files.pythonhosted.org/packages/17/82/86982e4b6d16e4febc79c2a1d68ee3b707e8a020c5d2bc4af8052d0f136a/tinysegmenter-0.3.tar.gz\n",
            "Requirement already satisfied: six>=1.5 in /usr/local/lib/python3.6/dist-packages (from python-dateutil>=2.5.3->newspaper3k) (1.12.0)\n",
            "Collecting requests-file>=1.4\n",
            "  Downloading https://files.pythonhosted.org/packages/23/9c/6e63c23c39e53d3df41c77a3d05a49a42c4e1383a6d2a5e3233161b89dbf/requests_file-1.4.3-py2.py3-none-any.whl\n",
            "Requirement already satisfied: idna in /usr/local/lib/python3.6/dist-packages (from tldextract>=2.0.1->newspaper3k) (2.8)\n",
            "Requirement already satisfied: setuptools in /usr/local/lib/python3.6/dist-packages (from tldextract>=2.0.1->newspaper3k) (46.1.3)\n",
            "Requirement already satisfied: urllib3<1.25,>=1.21.1 in /usr/local/lib/python3.6/dist-packages (from requests>=2.10.0->newspaper3k) (1.24.3)\n",
            "Requirement already satisfied: certifi>=2017.4.17 in /usr/local/lib/python3.6/dist-packages (from requests>=2.10.0->newspaper3k) (2020.4.5.1)\n",
            "Requirement already satisfied: chardet<3.1.0,>=3.0.2 in /usr/local/lib/python3.6/dist-packages (from requests>=2.10.0->newspaper3k) (3.0.4)\n",
            "Building wheels for collected packages: feedparser, feedfinder2, jieba3k, tinysegmenter\n",
            "  Building wheel for feedparser (setup.py) ... \u001b[?25l\u001b[?25hdone\n",
            "  Created wheel for feedparser: filename=feedparser-5.2.1-cp36-none-any.whl size=44940 sha256=a27123883b417789e272c14d17e1790b00730ab991078c25e1cc9e87464a49c9\n",
            "  Stored in directory: /root/.cache/pip/wheels/8c/69/b7/f52763c41c5471df57703a0ef718a32a5e81ee35dcf6d4f97f\n",
            "  Building wheel for feedfinder2 (setup.py) ... \u001b[?25l\u001b[?25hdone\n",
            "  Created wheel for feedfinder2: filename=feedfinder2-0.0.4-cp36-none-any.whl size=3357 sha256=99cdf9f8d778869acc2e57f19568b3851442c783153a5f8d8f938480e8defdbe\n",
            "  Stored in directory: /root/.cache/pip/wheels/de/03/ca/778e3a7a627e3d98836cc890e7cb40c7575424cfd3340f40ed\n",
            "  Building wheel for jieba3k (setup.py) ... \u001b[?25l\u001b[?25hdone\n",
            "  Created wheel for jieba3k: filename=jieba3k-0.35.1-cp36-none-any.whl size=7398406 sha256=5db14a3a2680174b514d3214568f52191c49f057f524f9ac2fdad4fc3b8d0bf6\n",
            "  Stored in directory: /root/.cache/pip/wheels/83/15/9c/a3f1f67e7f7181170ad37d32e503c35da20627c013f438ed34\n",
            "  Building wheel for tinysegmenter (setup.py) ... \u001b[?25l\u001b[?25hdone\n",
            "  Created wheel for tinysegmenter: filename=tinysegmenter-0.3-cp36-none-any.whl size=13539 sha256=aff9b427a1959d3e186db2ce5f2b3ebd86e38cef17510fe506ae448dca986ad3\n",
            "  Stored in directory: /root/.cache/pip/wheels/81/2b/43/a02ede72324dd40cdd7ca53aad718c7710628e91b8b0dc0f02\n",
            "Successfully built feedparser feedfinder2 jieba3k tinysegmenter\n",
            "Installing collected packages: feedparser, cssselect, feedfinder2, jieba3k, requests-file, tldextract, tinysegmenter, newspaper3k\n",
            "Successfully installed cssselect-1.1.0 feedfinder2-0.0.4 feedparser-5.2.1 jieba3k-0.35.1 newspaper3k-0.2.8 requests-file-1.4.3 tinysegmenter-0.3 tldextract-2.2.2\n"
          ],
          "name": "stdout"
        }
      ]
    },
    {
      "cell_type": "code",
      "metadata": {
        "id": "LYcVEVlbKNBk",
        "colab_type": "code",
        "colab": {}
      },
      "source": [
        "#This bot goes to a website, scrapes information off of the website, let user write query to chatbot and chatbot will find most similar sentence to user query on the website and use that to respond to them."
      ],
      "execution_count": null,
      "outputs": []
    },
    {
      "cell_type": "code",
      "metadata": {
        "id": "7k8klGCdKnGW",
        "colab_type": "code",
        "colab": {}
      },
      "source": [
        "from newspaper import Article\n",
        "import random\n",
        "import string\n",
        "from sklearn.feature_extraction.text import TfidfVectorizer\n",
        "from sklearn.metrics.pairwise import cosine_similarity\n",
        "import nltk\n",
        "import numpy as np\n",
        "import warnings"
      ],
      "execution_count": null,
      "outputs": []
    },
    {
      "cell_type": "code",
      "metadata": {
        "id": "NfIbwl7KLRi0",
        "colab_type": "code",
        "colab": {}
      },
      "source": [
        "warnings.filterwarnings('ignore')"
      ],
      "execution_count": null,
      "outputs": []
    },
    {
      "cell_type": "code",
      "metadata": {
        "id": "uWFgs6Y8LaVq",
        "colab_type": "code",
        "colab": {
          "base_uri": "https://localhost:8080/",
          "height": 34
        },
        "outputId": "d28b30a0-f136-4161-b0e1-489c34fb484d"
      },
      "source": [
        "nltk.download('punkt', quiet = True)\n",
        "nltk.download('wordnet', quiet=True)"
      ],
      "execution_count": null,
      "outputs": [
        {
          "output_type": "execute_result",
          "data": {
            "text/plain": [
              "True"
            ]
          },
          "metadata": {
            "tags": []
          },
          "execution_count": 32
        }
      ]
    },
    {
      "cell_type": "code",
      "metadata": {
        "id": "BAPzaAOEL0K9",
        "colab_type": "code",
        "colab": {}
      },
      "source": [
        "article = Article('https://industrytoday.com/the-rise-of-remanufacturing/')"
      ],
      "execution_count": null,
      "outputs": []
    },
    {
      "cell_type": "code",
      "metadata": {
        "id": "GlU4CtooM07Y",
        "colab_type": "code",
        "colab": {
          "base_uri": "https://localhost:8080/",
          "height": 726
        },
        "outputId": "4bb38a17-e074-46b5-87e0-e117e6801f6f"
      },
      "source": [
        "article.download()\n",
        "article.parse()\n",
        "article.nlp()\n",
        "corpus = article.text\n",
        "print(corpus)"
      ],
      "execution_count": null,
      "outputs": [
        {
          "output_type": "stream",
          "text": [
            "February 12, 2019\n",
            "\n",
            "Architecture company Rau designed Brummen Town Hall in the Netherlands to last just 20 years. Due to shifting municipality borders, the firm opted for reusable materials that will be dismantled and returned to manufacturers at the end of the building’s working life.\n",
            "\n",
            "90 per cent of the materials used to build Brummen Town Hall are recyclable. At the end of the building’s life, little material will go into landfill — instead it will be repurposed for other projects. Manufacturers too are considering how materials can be reused, one increasingly popular option is remanufacturing. This is the process of disassembling, cleaning and repairing components so that the product can be reassembled for sale at the performance and quality of a new product.\n",
            "\n",
            "The technique is predominantly used in the aerospace and automotive sectors. Despite having a history of several decades, there remains some confusion about the differences between reconditioned and remanufactured products. Remanufacturing is a more thorough process, which returns the engine to its original specification, whereas a reconditioned engine may still contain some damaged components.\n",
            "\n",
            "During the remanufacturing process a product will be collected, inspected, disassembled and then reconditioned and replacement parts added as necessary. The item will then be reassembled, before going through quality assurance and testing to ensure the product is to specification and of a high quality.\n",
            "\n",
            "The process has been made easier by technologies such as laser metal deposition, which can be used to melt metal powder or wire on a surface. High pressure cold spray technology can also be used to adhere tiny particles to a surface without heat. Developments in scanning technology mean it is easier to compare the remanufactured part to a gold-standard original and to devise a tool path to correct any differences between the two.\n",
            "\n",
            "As good as new\n",
            "\n",
            "The remanufacturing sector in the US is estimated to grow at CAGR of 6.6 per cent from 2017 to 2025, cementing its important role in the future of manufacturing. It is also an important component of the circular economy, where materials can be part of a continual re-use and recycling system to minimize environmental impacts.\n",
            "\n",
            "Because of remanufacturing’s growing popularity, designers are shifting their work to ensure that remanufacturing can be done quickly and easily. Products are therefore being designed with their entire lifecycle in mind, adapting materials and layout accordingly. This lowers the cost and time needed when the time comes for a product to be remanufactured, as the product is designed to be easy to disassemble and rebuild.\n",
            "\n",
            "At EU Automation, we believe that when a part can be repaired or replaced, it should be. Investment in entirely new equipment is expensive and often unnecessary. Manufacturers can benefit from reconditioned or remanufactured parts, which help processes to run as normal for extended periods. The process also offers environmental benefits, as less waste will go to landfill, and more material is re-used, just like the timber from the Brummen Town Hall will be at the end of its working life.\n",
            "\n",
            "Jonathan Wilkins – EU Automation, marketing director\n",
            "\n",
            "Jonathan Wilkins is the marketing director of industrial automation components supplier, EU Automation. A professional brand advocate and commercial marketing strategist, Jon focuses on delivering growth via a multi-channel approach that has a significant positive impact on business. He has been part of the EU Automation team since its humble beginning nine years ago and has over a decade of experience in marketing.\n",
            "\n",
            "For further information contact:\n",
            "\n",
            "EU Automation Inc.\n",
            "\n",
            "871 Busse Road, Elk Grove Village, Chicago, IL 60007, USA\n",
            "\n",
            "Telephone: +44 (0) 1785 30 33 00\n",
            "\n",
            "www: http://www.euautomation.com\n",
            "\n",
            "e-mail: jonathan.wilkins@euautomation.com\n",
            "\n",
            "Twitter: http://twitter.com/euautomation\n",
            "\n",
            "About EU Automation:\n",
            "\n",
            "EU Automation stocks and sells new, used, refurbished and obsolete industrial automation spares. Its global network of preferred partner warehouses, and wholly owned distribution centers, enables it to offer a unique service within the automation industry, spanning the entire globe. It provides worldwide express delivery on all products meaning it can supply any part, to any destination, at very short notice.\n"
          ],
          "name": "stdout"
        }
      ]
    },
    {
      "cell_type": "code",
      "metadata": {
        "id": "EhiDkHiSNRdk",
        "colab_type": "code",
        "colab": {
          "base_uri": "https://localhost:8080/",
          "height": 54
        },
        "outputId": "1a1b484e-07df-47f0-8110-f59f54efb175"
      },
      "source": [
        "#Tokenization\n",
        "text = corpus\n",
        "sent_tokens = nltk.sent_tokenize(text) #converts text into list of sentences\n",
        "print(sent_tokens)"
      ],
      "execution_count": null,
      "outputs": [
        {
          "output_type": "stream",
          "text": [
            "['February 12, 2019\\n\\nArchitecture company Rau designed Brummen Town Hall in the Netherlands to last just 20 years.', 'Due to shifting municipality borders, the firm opted for reusable materials that will be dismantled and returned to manufacturers at the end of the building’s working life.', '90 per cent of the materials used to build Brummen Town Hall are recyclable.', 'At the end of the building’s life, little material will go into landfill — instead it will be repurposed for other projects.', 'Manufacturers too are considering how materials can be reused, one increasingly popular option is remanufacturing.', 'This is the process of disassembling, cleaning and repairing components so that the product can be reassembled for sale at the performance and quality of a new product.', 'The technique is predominantly used in the aerospace and automotive sectors.', 'Despite having a history of several decades, there remains some confusion about the differences between reconditioned and remanufactured products.', 'Remanufacturing is a more thorough process, which returns the engine to its original specification, whereas a reconditioned engine may still contain some damaged components.', 'During the remanufacturing process a product will be collected, inspected, disassembled and then reconditioned and replacement parts added as necessary.', 'The item will then be reassembled, before going through quality assurance and testing to ensure the product is to specification and of a high quality.', 'The process has been made easier by technologies such as laser metal deposition, which can be used to melt metal powder or wire on a surface.', 'High pressure cold spray technology can also be used to adhere tiny particles to a surface without heat.', 'Developments in scanning technology mean it is easier to compare the remanufactured part to a gold-standard original and to devise a tool path to correct any differences between the two.', 'As good as new\\n\\nThe remanufacturing sector in the US is estimated to grow at CAGR of 6.6 per cent from 2017 to 2025, cementing its important role in the future of manufacturing.', 'It is also an important component of the circular economy, where materials can be part of a continual re-use and recycling system to minimize environmental impacts.', 'Because of remanufacturing’s growing popularity, designers are shifting their work to ensure that remanufacturing can be done quickly and easily.', 'Products are therefore being designed with their entire lifecycle in mind, adapting materials and layout accordingly.', 'This lowers the cost and time needed when the time comes for a product to be remanufactured, as the product is designed to be easy to disassemble and rebuild.', 'At EU Automation, we believe that when a part can be repaired or replaced, it should be.', 'Investment in entirely new equipment is expensive and often unnecessary.', 'Manufacturers can benefit from reconditioned or remanufactured parts, which help processes to run as normal for extended periods.', 'The process also offers environmental benefits, as less waste will go to landfill, and more material is re-used, just like the timber from the Brummen Town Hall will be at the end of its working life.', 'Jonathan Wilkins – EU Automation, marketing director\\n\\nJonathan Wilkins is the marketing director of industrial automation components supplier, EU Automation.', 'A professional brand advocate and commercial marketing strategist, Jon focuses on delivering growth via a multi-channel approach that has a significant positive impact on business.', 'He has been part of the EU Automation team since its humble beginning nine years ago and has over a decade of experience in marketing.', 'For further information contact:\\n\\nEU Automation Inc.\\n\\n871 Busse Road, Elk Grove Village, Chicago, IL 60007, USA\\n\\nTelephone: +44 (0) 1785 30 33 00\\n\\nwww: http://www.euautomation.com\\n\\ne-mail: jonathan.wilkins@euautomation.com\\n\\nTwitter: http://twitter.com/euautomation\\n\\nAbout EU Automation:\\n\\nEU Automation stocks and sells new, used, refurbished and obsolete industrial automation spares.', 'Its global network of preferred partner warehouses, and wholly owned distribution centers, enables it to offer a unique service within the automation industry, spanning the entire globe.', 'It provides worldwide express delivery on all products meaning it can supply any part, to any destination, at very short notice.']\n"
          ],
          "name": "stdout"
        }
      ]
    },
    {
      "cell_type": "code",
      "metadata": {
        "id": "g4KyuFV8N_ya",
        "colab_type": "code",
        "colab": {
          "base_uri": "https://localhost:8080/",
          "height": 70
        },
        "outputId": "21e924c0-9044-4510-cb91-604c889e6eff"
      },
      "source": [
        "#Creates dictionary (key:value) pair to remove punctuation\n",
        "remove_punct_dict = dict((ord(punct),None) for punct in string.punctuation)\n",
        "print(string.punctuation) #print punctuations\n",
        "print(remove_punct_dict)#print dictionary"
      ],
      "execution_count": null,
      "outputs": [
        {
          "output_type": "stream",
          "text": [
            "!\"#$%&'()*+,-./:;<=>?@[\\]^_`{|}~\n",
            "{33: None, 34: None, 35: None, 36: None, 37: None, 38: None, 39: None, 40: None, 41: None, 42: None, 43: None, 44: None, 45: None, 46: None, 47: None, 58: None, 59: None, 60: None, 61: None, 62: None, 63: None, 64: None, 91: None, 92: None, 93: None, 94: None, 95: None, 96: None, 123: None, 124: None, 125: None, 126: None}\n"
          ],
          "name": "stdout"
        }
      ]
    },
    {
      "cell_type": "code",
      "metadata": {
        "id": "WVjyAm7lb8IF",
        "colab_type": "code",
        "colab": {
          "base_uri": "https://localhost:8080/",
          "height": 54
        },
        "outputId": "7b2d4a85-0b9f-46f3-a1bc-764dcf7e983b"
      },
      "source": [
        "#create function to return list of lemmetized lower case words after removing punctuation\n",
        "def lemNormalize(text):\n",
        "  return nltk.word_tokenize(text.lower().translate(remove_punct_dict)) #use this to remove any leftover puctuation\n",
        "print(lemNormalize(text)) #print tokenizaztion text"
      ],
      "execution_count": null,
      "outputs": [
        {
          "output_type": "stream",
          "text": [
            "['february', '12', '2019', 'architecture', 'company', 'rau', 'designed', 'brummen', 'town', 'hall', 'in', 'the', 'netherlands', 'to', 'last', 'just', '20', 'years', 'due', 'to', 'shifting', 'municipality', 'borders', 'the', 'firm', 'opted', 'for', 'reusable', 'materials', 'that', 'will', 'be', 'dismantled', 'and', 'returned', 'to', 'manufacturers', 'at', 'the', 'end', 'of', 'the', 'building', '’', 's', 'working', 'life', '90', 'per', 'cent', 'of', 'the', 'materials', 'used', 'to', 'build', 'brummen', 'town', 'hall', 'are', 'recyclable', 'at', 'the', 'end', 'of', 'the', 'building', '’', 's', 'life', 'little', 'material', 'will', 'go', 'into', 'landfill', '—', 'instead', 'it', 'will', 'be', 'repurposed', 'for', 'other', 'projects', 'manufacturers', 'too', 'are', 'considering', 'how', 'materials', 'can', 'be', 'reused', 'one', 'increasingly', 'popular', 'option', 'is', 'remanufacturing', 'this', 'is', 'the', 'process', 'of', 'disassembling', 'cleaning', 'and', 'repairing', 'components', 'so', 'that', 'the', 'product', 'can', 'be', 'reassembled', 'for', 'sale', 'at', 'the', 'performance', 'and', 'quality', 'of', 'a', 'new', 'product', 'the', 'technique', 'is', 'predominantly', 'used', 'in', 'the', 'aerospace', 'and', 'automotive', 'sectors', 'despite', 'having', 'a', 'history', 'of', 'several', 'decades', 'there', 'remains', 'some', 'confusion', 'about', 'the', 'differences', 'between', 'reconditioned', 'and', 'remanufactured', 'products', 'remanufacturing', 'is', 'a', 'more', 'thorough', 'process', 'which', 'returns', 'the', 'engine', 'to', 'its', 'original', 'specification', 'whereas', 'a', 'reconditioned', 'engine', 'may', 'still', 'contain', 'some', 'damaged', 'components', 'during', 'the', 'remanufacturing', 'process', 'a', 'product', 'will', 'be', 'collected', 'inspected', 'disassembled', 'and', 'then', 'reconditioned', 'and', 'replacement', 'parts', 'added', 'as', 'necessary', 'the', 'item', 'will', 'then', 'be', 'reassembled', 'before', 'going', 'through', 'quality', 'assurance', 'and', 'testing', 'to', 'ensure', 'the', 'product', 'is', 'to', 'specification', 'and', 'of', 'a', 'high', 'quality', 'the', 'process', 'has', 'been', 'made', 'easier', 'by', 'technologies', 'such', 'as', 'laser', 'metal', 'deposition', 'which', 'can', 'be', 'used', 'to', 'melt', 'metal', 'powder', 'or', 'wire', 'on', 'a', 'surface', 'high', 'pressure', 'cold', 'spray', 'technology', 'can', 'also', 'be', 'used', 'to', 'adhere', 'tiny', 'particles', 'to', 'a', 'surface', 'without', 'heat', 'developments', 'in', 'scanning', 'technology', 'mean', 'it', 'is', 'easier', 'to', 'compare', 'the', 'remanufactured', 'part', 'to', 'a', 'goldstandard', 'original', 'and', 'to', 'devise', 'a', 'tool', 'path', 'to', 'correct', 'any', 'differences', 'between', 'the', 'two', 'as', 'good', 'as', 'new', 'the', 'remanufacturing', 'sector', 'in', 'the', 'us', 'is', 'estimated', 'to', 'grow', 'at', 'cagr', 'of', '66', 'per', 'cent', 'from', '2017', 'to', '2025', 'cementing', 'its', 'important', 'role', 'in', 'the', 'future', 'of', 'manufacturing', 'it', 'is', 'also', 'an', 'important', 'component', 'of', 'the', 'circular', 'economy', 'where', 'materials', 'can', 'be', 'part', 'of', 'a', 'continual', 'reuse', 'and', 'recycling', 'system', 'to', 'minimize', 'environmental', 'impacts', 'because', 'of', 'remanufacturing', '’', 's', 'growing', 'popularity', 'designers', 'are', 'shifting', 'their', 'work', 'to', 'ensure', 'that', 'remanufacturing', 'can', 'be', 'done', 'quickly', 'and', 'easily', 'products', 'are', 'therefore', 'being', 'designed', 'with', 'their', 'entire', 'lifecycle', 'in', 'mind', 'adapting', 'materials', 'and', 'layout', 'accordingly', 'this', 'lowers', 'the', 'cost', 'and', 'time', 'needed', 'when', 'the', 'time', 'comes', 'for', 'a', 'product', 'to', 'be', 'remanufactured', 'as', 'the', 'product', 'is', 'designed', 'to', 'be', 'easy', 'to', 'disassemble', 'and', 'rebuild', 'at', 'eu', 'automation', 'we', 'believe', 'that', 'when', 'a', 'part', 'can', 'be', 'repaired', 'or', 'replaced', 'it', 'should', 'be', 'investment', 'in', 'entirely', 'new', 'equipment', 'is', 'expensive', 'and', 'often', 'unnecessary', 'manufacturers', 'can', 'benefit', 'from', 'reconditioned', 'or', 'remanufactured', 'parts', 'which', 'help', 'processes', 'to', 'run', 'as', 'normal', 'for', 'extended', 'periods', 'the', 'process', 'also', 'offers', 'environmental', 'benefits', 'as', 'less', 'waste', 'will', 'go', 'to', 'landfill', 'and', 'more', 'material', 'is', 'reused', 'just', 'like', 'the', 'timber', 'from', 'the', 'brummen', 'town', 'hall', 'will', 'be', 'at', 'the', 'end', 'of', 'its', 'working', 'life', 'jonathan', 'wilkins', '–', 'eu', 'automation', 'marketing', 'director', 'jonathan', 'wilkins', 'is', 'the', 'marketing', 'director', 'of', 'industrial', 'automation', 'components', 'supplier', 'eu', 'automation', 'a', 'professional', 'brand', 'advocate', 'and', 'commercial', 'marketing', 'strategist', 'jon', 'focuses', 'on', 'delivering', 'growth', 'via', 'a', 'multichannel', 'approach', 'that', 'has', 'a', 'significant', 'positive', 'impact', 'on', 'business', 'he', 'has', 'been', 'part', 'of', 'the', 'eu', 'automation', 'team', 'since', 'its', 'humble', 'beginning', 'nine', 'years', 'ago', 'and', 'has', 'over', 'a', 'decade', 'of', 'experience', 'in', 'marketing', 'for', 'further', 'information', 'contact', 'eu', 'automation', 'inc', '871', 'busse', 'road', 'elk', 'grove', 'village', 'chicago', 'il', '60007', 'usa', 'telephone', '44', '0', '1785', '30', '33', '00', 'www', 'httpwwweuautomationcom', 'email', 'jonathanwilkinseuautomationcom', 'twitter', 'httptwittercomeuautomation', 'about', 'eu', 'automation', 'eu', 'automation', 'stocks', 'and', 'sells', 'new', 'used', 'refurbished', 'and', 'obsolete', 'industrial', 'automation', 'spares', 'its', 'global', 'network', 'of', 'preferred', 'partner', 'warehouses', 'and', 'wholly', 'owned', 'distribution', 'centers', 'enables', 'it', 'to', 'offer', 'a', 'unique', 'service', 'within', 'the', 'automation', 'industry', 'spanning', 'the', 'entire', 'globe', 'it', 'provides', 'worldwide', 'express', 'delivery', 'on', 'all', 'products', 'meaning', 'it', 'can', 'supply', 'any', 'part', 'to', 'any', 'destination', 'at', 'very', 'short', 'notice']\n"
          ],
          "name": "stdout"
        }
      ]
    },
    {
      "cell_type": "code",
      "metadata": {
        "id": "5XJHDS8oc879",
        "colab_type": "code",
        "colab": {}
      },
      "source": [
        "#Keyword Input\n",
        "Greeting_inputs = [\"hi\",\"hello\",\"hey\",\"I have a question\"]\n",
        "Greeting_responses = [\"hello, how can i help you\", \"howdy\",\"hi what's up\"]\n",
        "\n",
        "#Function to return random greeting response\n",
        "def greeting(sentence):\n",
        "  for word in sentence.split():\n",
        "    if word.lower in Greeting_inputs:\n",
        "      return random.choice(Greeting_responses)"
      ],
      "execution_count": null,
      "outputs": []
    },
    {
      "cell_type": "markdown",
      "metadata": {
        "id": "3nJf59tyezeQ",
        "colab_type": "text"
      },
      "source": [
        ""
      ]
    },
    {
      "cell_type": "code",
      "metadata": {
        "id": "V1sFqJVXeEYP",
        "colab_type": "code",
        "colab": {}
      },
      "source": [
        "#Generate response\n",
        "def response(user_response):\n",
        "\n",
        "  #user_response = \"what is environmental volunteering abroad\" #query\n",
        "  user_response = user_response.lower()\n",
        "\n",
        "  print(user_response)\n",
        "#set chatbot response to empty string\n",
        "  robo_response= ''\n",
        "\n",
        "#appending user response to sentence list\n",
        "  sent_tokens.append(user_response)\n",
        "#print sentence list after appending user's response\n",
        "  print(sent_tokens)\n",
        "#create TFIDFVectorizer object\n",
        "  tfidfVec = TfidfVectorizer(tokenizer=lemNormalize,stop_words=\"english\")\n",
        "\n",
        "#create a matrix of turn freq-inverse document frequency [TFIDF] features\n",
        "  tfidf = tfidfVec.fit_transform(sent_tokens)\n",
        "\n",
        "  print(tfidf)\n",
        "#Get measure of similarity: similarity scores (comparing text scrapped from website to user's question)\n",
        "  vals = cosine_similarity(tfidf[-1],tfidf)\n",
        "\n",
        "  print(vals)\n",
        "#To find sentence most similar to user's query\n",
        "  idx = vals.argsort()[0][-2] #user'squery stored at -1:best match and so we want -2:next best reponse which is our answer to their question (most simialr score stored at very end)\n",
        "\n",
        "#reduce dimentionality of vals (vals is a list os lists so we want to make it into just one list)\n",
        "  flat = vals.flatten()\n",
        "\n",
        "#sort list in ascending order\n",
        "  flat.sort()\n",
        "\n",
        "#get most similar score to user response\n",
        "  score = flat[-2]\n",
        "\n",
        "#print simialrity score\n",
        "  print(score)\n",
        "#if variable score = 0, no text similar to user response\n",
        "  if (score ==0):\n",
        "    robo_response = robo_response + \"I don't understand.\"\n",
        "\n",
        "  else:\n",
        "    robo_response = robo_response + sent_tokens[idx]\n",
        "  sent_tokens.remove(user_response)\n",
        "#chatbot response\n",
        "  print (sent_tokens[idx])\n",
        "  return robo_response\n",
        "\n",
        "#remove user query from sentence tokens after answering\n",
        "  #sent_tokens.remove(user_response)"
      ],
      "execution_count": null,
      "outputs": []
    },
    {
      "cell_type": "code",
      "metadata": {
        "id": "MwbK6q9EnlqY",
        "colab_type": "code",
        "colab": {
          "base_uri": "https://localhost:8080/",
          "height": 1000
        },
        "outputId": "03ecb6ac-4fbc-4baf-b848-c037bd7a9575"
      },
      "source": [
        "flag = True\n",
        "print(\"Hello, I am chatbot. Let me answer any questions you have on this article! If you want to leave at any point, type STOP.\")\n",
        "while (flag ==True):\n",
        "  user_response = input()\n",
        "  user_response = user_response.lower()\n",
        "  if(user_response != 'STOP'):\n",
        "    if(greeting(user_response) != (None)):\n",
        "      print (\"Chatbot: \" + greeting(user_response))\n",
        "    else:\n",
        "      print (\"Chatbot: \" + response(user_response))\n",
        "      \n",
        "  \n",
        "  elif (user_response == 'STOP'):\n",
        "    flag = False\n",
        "    print(\"Chatbot will catch you later!\")\n"
      ],
      "execution_count": null,
      "outputs": [
        {
          "output_type": "stream",
          "text": [
            "Hello, I am chatbot. Let me answer any questions you have on this article! If you want to leave at any point, type STOP.\n",
            "stop\n",
            "stop\n",
            "['February 12, 2019\\n\\nArchitecture company Rau designed Brummen Town Hall in the Netherlands to last just 20 years.', 'Due to shifting municipality borders, the firm opted for reusable materials that will be dismantled and returned to manufacturers at the end of the building’s working life.', '90 per cent of the materials used to build Brummen Town Hall are recyclable.', 'At the end of the building’s life, little material will go into landfill — instead it will be repurposed for other projects.', 'Manufacturers too are considering how materials can be reused, one increasingly popular option is remanufacturing.', 'This is the process of disassembling, cleaning and repairing components so that the product can be reassembled for sale at the performance and quality of a new product.', 'The technique is predominantly used in the aerospace and automotive sectors.', 'Despite having a history of several decades, there remains some confusion about the differences between reconditioned and remanufactured products.', 'Remanufacturing is a more thorough process, which returns the engine to its original specification, whereas a reconditioned engine may still contain some damaged components.', 'During the remanufacturing process a product will be collected, inspected, disassembled and then reconditioned and replacement parts added as necessary.', 'The item will then be reassembled, before going through quality assurance and testing to ensure the product is to specification and of a high quality.', 'The process has been made easier by technologies such as laser metal deposition, which can be used to melt metal powder or wire on a surface.', 'High pressure cold spray technology can also be used to adhere tiny particles to a surface without heat.', 'Developments in scanning technology mean it is easier to compare the remanufactured part to a gold-standard original and to devise a tool path to correct any differences between the two.', 'As good as new\\n\\nThe remanufacturing sector in the US is estimated to grow at CAGR of 6.6 per cent from 2017 to 2025, cementing its important role in the future of manufacturing.', 'It is also an important component of the circular economy, where materials can be part of a continual re-use and recycling system to minimize environmental impacts.', 'Because of remanufacturing’s growing popularity, designers are shifting their work to ensure that remanufacturing can be done quickly and easily.', 'Products are therefore being designed with their entire lifecycle in mind, adapting materials and layout accordingly.', 'This lowers the cost and time needed when the time comes for a product to be remanufactured, as the product is designed to be easy to disassemble and rebuild.', 'At EU Automation, we believe that when a part can be repaired or replaced, it should be.', 'Investment in entirely new equipment is expensive and often unnecessary.', 'Manufacturers can benefit from reconditioned or remanufactured parts, which help processes to run as normal for extended periods.', 'The process also offers environmental benefits, as less waste will go to landfill, and more material is re-used, just like the timber from the Brummen Town Hall will be at the end of its working life.', 'Jonathan Wilkins – EU Automation, marketing director\\n\\nJonathan Wilkins is the marketing director of industrial automation components supplier, EU Automation.', 'A professional brand advocate and commercial marketing strategist, Jon focuses on delivering growth via a multi-channel approach that has a significant positive impact on business.', 'He has been part of the EU Automation team since its humble beginning nine years ago and has over a decade of experience in marketing.', 'For further information contact:\\n\\nEU Automation Inc.\\n\\n871 Busse Road, Elk Grove Village, Chicago, IL 60007, USA\\n\\nTelephone: +44 (0) 1785 30 33 00\\n\\nwww: http://www.euautomation.com\\n\\ne-mail: jonathan.wilkins@euautomation.com\\n\\nTwitter: http://twitter.com/euautomation\\n\\nAbout EU Automation:\\n\\nEU Automation stocks and sells new, used, refurbished and obsolete industrial automation spares.', 'Its global network of preferred partner warehouses, and wholly owned distribution centers, enables it to offer a unique service within the automation industry, spanning the entire globe.', 'It provides worldwide express delivery on all products meaning it can supply any part, to any destination, at very short notice.', 'stop']\n",
            "  (0, 264)\t0.2547987052148922\n",
            "  (0, 4)\t0.28577332940656847\n",
            "  (0, 136)\t0.2547987052148922\n",
            "  (0, 160)\t0.28577332940656847\n",
            "  (0, 112)\t0.23282185960552992\n",
            "  (0, 248)\t0.23282185960552992\n",
            "  (0, 33)\t0.23282185960552992\n",
            "  (0, 66)\t0.23282185960552992\n",
            "  (0, 194)\t0.28577332940656847\n",
            "  (0, 49)\t0.28577332940656847\n",
            "  (0, 23)\t0.28577332940656847\n",
            "  (0, 6)\t0.28577332940656847\n",
            "  (0, 2)\t0.28577332940656847\n",
            "  (0, 99)\t0.28577332940656847\n",
            "  (1, 140)\t0.22421941861161215\n",
            "  (1, 261)\t0.24538425061577732\n",
            "  (1, 217)\t0.22421941861161215\n",
            "  (1, 267)\t0.22421941861161215\n",
            "  (1, 35)\t0.24538425061577732\n",
            "  (1, 86)\t0.22421941861161215\n",
            "  (1, 145)\t0.22421941861161215\n",
            "  (1, 209)\t0.27521440591020685\n",
            "  (1, 77)\t0.27521440591020685\n",
            "  (1, 149)\t0.19438926331718262\n",
            "  (1, 211)\t0.27521440591020685\n",
            "  :\t:\n",
            "  (27, 250)\t0.2404662112354852\n",
            "  (27, 166)\t0.2404662112354852\n",
            "  (27, 85)\t0.2404662112354852\n",
            "  (27, 41)\t0.2404662112354852\n",
            "  (27, 78)\t0.2404662112354852\n",
            "  (27, 171)\t0.2404662112354852\n",
            "  (27, 257)\t0.2404662112354852\n",
            "  (27, 255)\t0.2404662112354852\n",
            "  (27, 173)\t0.2404662112354852\n",
            "  (27, 183)\t0.2404662112354852\n",
            "  (27, 161)\t0.2404662112354852\n",
            "  (27, 103)\t0.2404662112354852\n",
            "  (27, 25)\t0.16984594065904748\n",
            "  (27, 89)\t0.214402370570989\n",
            "  (28, 164)\t0.3216823043466742\n",
            "  (28, 225)\t0.3216823043466742\n",
            "  (28, 69)\t0.3216823043466742\n",
            "  (28, 235)\t0.3216823043466742\n",
            "  (28, 151)\t0.3216823043466742\n",
            "  (28, 64)\t0.3216823043466742\n",
            "  (28, 97)\t0.3216823043466742\n",
            "  (28, 262)\t0.3216823043466742\n",
            "  (28, 191)\t0.3216823043466742\n",
            "  (28, 188)\t0.2620771940324509\n",
            "  (29, 232)\t1.0\n",
            "[[0. 0. 0. 0. 0. 0. 0. 0. 0. 0. 0. 0. 0. 0. 0. 0. 0. 0. 0. 0. 0. 0. 0. 0.\n",
            "  0. 0. 0. 0. 0. 1.]]\n",
            "0.0\n",
            "It provides worldwide express delivery on all products meaning it can supply any part, to any destination, at very short notice.\n",
            "Chatbot: I don't understand.\n",
            "STOP\n",
            "stop\n",
            "['February 12, 2019\\n\\nArchitecture company Rau designed Brummen Town Hall in the Netherlands to last just 20 years.', 'Due to shifting municipality borders, the firm opted for reusable materials that will be dismantled and returned to manufacturers at the end of the building’s working life.', '90 per cent of the materials used to build Brummen Town Hall are recyclable.', 'At the end of the building’s life, little material will go into landfill — instead it will be repurposed for other projects.', 'Manufacturers too are considering how materials can be reused, one increasingly popular option is remanufacturing.', 'This is the process of disassembling, cleaning and repairing components so that the product can be reassembled for sale at the performance and quality of a new product.', 'The technique is predominantly used in the aerospace and automotive sectors.', 'Despite having a history of several decades, there remains some confusion about the differences between reconditioned and remanufactured products.', 'Remanufacturing is a more thorough process, which returns the engine to its original specification, whereas a reconditioned engine may still contain some damaged components.', 'During the remanufacturing process a product will be collected, inspected, disassembled and then reconditioned and replacement parts added as necessary.', 'The item will then be reassembled, before going through quality assurance and testing to ensure the product is to specification and of a high quality.', 'The process has been made easier by technologies such as laser metal deposition, which can be used to melt metal powder or wire on a surface.', 'High pressure cold spray technology can also be used to adhere tiny particles to a surface without heat.', 'Developments in scanning technology mean it is easier to compare the remanufactured part to a gold-standard original and to devise a tool path to correct any differences between the two.', 'As good as new\\n\\nThe remanufacturing sector in the US is estimated to grow at CAGR of 6.6 per cent from 2017 to 2025, cementing its important role in the future of manufacturing.', 'It is also an important component of the circular economy, where materials can be part of a continual re-use and recycling system to minimize environmental impacts.', 'Because of remanufacturing’s growing popularity, designers are shifting their work to ensure that remanufacturing can be done quickly and easily.', 'Products are therefore being designed with their entire lifecycle in mind, adapting materials and layout accordingly.', 'This lowers the cost and time needed when the time comes for a product to be remanufactured, as the product is designed to be easy to disassemble and rebuild.', 'At EU Automation, we believe that when a part can be repaired or replaced, it should be.', 'Investment in entirely new equipment is expensive and often unnecessary.', 'Manufacturers can benefit from reconditioned or remanufactured parts, which help processes to run as normal for extended periods.', 'The process also offers environmental benefits, as less waste will go to landfill, and more material is re-used, just like the timber from the Brummen Town Hall will be at the end of its working life.', 'Jonathan Wilkins – EU Automation, marketing director\\n\\nJonathan Wilkins is the marketing director of industrial automation components supplier, EU Automation.', 'A professional brand advocate and commercial marketing strategist, Jon focuses on delivering growth via a multi-channel approach that has a significant positive impact on business.', 'He has been part of the EU Automation team since its humble beginning nine years ago and has over a decade of experience in marketing.', 'For further information contact:\\n\\nEU Automation Inc.\\n\\n871 Busse Road, Elk Grove Village, Chicago, IL 60007, USA\\n\\nTelephone: +44 (0) 1785 30 33 00\\n\\nwww: http://www.euautomation.com\\n\\ne-mail: jonathan.wilkins@euautomation.com\\n\\nTwitter: http://twitter.com/euautomation\\n\\nAbout EU Automation:\\n\\nEU Automation stocks and sells new, used, refurbished and obsolete industrial automation spares.', 'Its global network of preferred partner warehouses, and wholly owned distribution centers, enables it to offer a unique service within the automation industry, spanning the entire globe.', 'It provides worldwide express delivery on all products meaning it can supply any part, to any destination, at very short notice.', 'stop']\n",
            "  (0, 264)\t0.2547987052148922\n",
            "  (0, 4)\t0.28577332940656847\n",
            "  (0, 136)\t0.2547987052148922\n",
            "  (0, 160)\t0.28577332940656847\n",
            "  (0, 112)\t0.23282185960552992\n",
            "  (0, 248)\t0.23282185960552992\n",
            "  (0, 33)\t0.23282185960552992\n",
            "  (0, 66)\t0.23282185960552992\n",
            "  (0, 194)\t0.28577332940656847\n",
            "  (0, 49)\t0.28577332940656847\n",
            "  (0, 23)\t0.28577332940656847\n",
            "  (0, 6)\t0.28577332940656847\n",
            "  (0, 2)\t0.28577332940656847\n",
            "  (0, 99)\t0.28577332940656847\n",
            "  (1, 140)\t0.22421941861161215\n",
            "  (1, 261)\t0.24538425061577732\n",
            "  (1, 217)\t0.22421941861161215\n",
            "  (1, 267)\t0.22421941861161215\n",
            "  (1, 35)\t0.24538425061577732\n",
            "  (1, 86)\t0.22421941861161215\n",
            "  (1, 145)\t0.22421941861161215\n",
            "  (1, 209)\t0.27521440591020685\n",
            "  (1, 77)\t0.27521440591020685\n",
            "  (1, 149)\t0.19438926331718262\n",
            "  (1, 211)\t0.27521440591020685\n",
            "  :\t:\n",
            "  (27, 250)\t0.2404662112354852\n",
            "  (27, 166)\t0.2404662112354852\n",
            "  (27, 85)\t0.2404662112354852\n",
            "  (27, 41)\t0.2404662112354852\n",
            "  (27, 78)\t0.2404662112354852\n",
            "  (27, 171)\t0.2404662112354852\n",
            "  (27, 257)\t0.2404662112354852\n",
            "  (27, 255)\t0.2404662112354852\n",
            "  (27, 173)\t0.2404662112354852\n",
            "  (27, 183)\t0.2404662112354852\n",
            "  (27, 161)\t0.2404662112354852\n",
            "  (27, 103)\t0.2404662112354852\n",
            "  (27, 25)\t0.16984594065904748\n",
            "  (27, 89)\t0.214402370570989\n",
            "  (28, 164)\t0.3216823043466742\n",
            "  (28, 225)\t0.3216823043466742\n",
            "  (28, 69)\t0.3216823043466742\n",
            "  (28, 235)\t0.3216823043466742\n",
            "  (28, 151)\t0.3216823043466742\n",
            "  (28, 64)\t0.3216823043466742\n",
            "  (28, 97)\t0.3216823043466742\n",
            "  (28, 262)\t0.3216823043466742\n",
            "  (28, 191)\t0.3216823043466742\n",
            "  (28, 188)\t0.2620771940324509\n",
            "  (29, 232)\t1.0\n",
            "[[0. 0. 0. 0. 0. 0. 0. 0. 0. 0. 0. 0. 0. 0. 0. 0. 0. 0. 0. 0. 0. 0. 0. 0.\n",
            "  0. 0. 0. 0. 0. 1.]]\n",
            "0.0\n",
            "It provides worldwide express delivery on all products meaning it can supply any part, to any destination, at very short notice.\n",
            "Chatbot: I don't understand.\n"
          ],
          "name": "stdout"
        },
        {
          "output_type": "error",
          "ename": "KeyboardInterrupt",
          "evalue": "ignored",
          "traceback": [
            "\u001b[0;31m---------------------------------------------------------------------------\u001b[0m",
            "\u001b[0;31mKeyboardInterrupt\u001b[0m                         Traceback (most recent call last)",
            "\u001b[0;32m/usr/local/lib/python3.6/dist-packages/ipykernel/kernelbase.py\u001b[0m in \u001b[0;36m_input_request\u001b[0;34m(self, prompt, ident, parent, password)\u001b[0m\n\u001b[1;32m    728\u001b[0m             \u001b[0;32mtry\u001b[0m\u001b[0;34m:\u001b[0m\u001b[0;34m\u001b[0m\u001b[0;34m\u001b[0m\u001b[0m\n\u001b[0;32m--> 729\u001b[0;31m                 \u001b[0mident\u001b[0m\u001b[0;34m,\u001b[0m \u001b[0mreply\u001b[0m \u001b[0;34m=\u001b[0m \u001b[0mself\u001b[0m\u001b[0;34m.\u001b[0m\u001b[0msession\u001b[0m\u001b[0;34m.\u001b[0m\u001b[0mrecv\u001b[0m\u001b[0;34m(\u001b[0m\u001b[0mself\u001b[0m\u001b[0;34m.\u001b[0m\u001b[0mstdin_socket\u001b[0m\u001b[0;34m,\u001b[0m \u001b[0;36m0\u001b[0m\u001b[0;34m)\u001b[0m\u001b[0;34m\u001b[0m\u001b[0;34m\u001b[0m\u001b[0m\n\u001b[0m\u001b[1;32m    730\u001b[0m             \u001b[0;32mexcept\u001b[0m \u001b[0mException\u001b[0m\u001b[0;34m:\u001b[0m\u001b[0;34m\u001b[0m\u001b[0;34m\u001b[0m\u001b[0m\n",
            "\u001b[0;32m/usr/local/lib/python3.6/dist-packages/jupyter_client/session.py\u001b[0m in \u001b[0;36mrecv\u001b[0;34m(self, socket, mode, content, copy)\u001b[0m\n\u001b[1;32m    802\u001b[0m         \u001b[0;32mtry\u001b[0m\u001b[0;34m:\u001b[0m\u001b[0;34m\u001b[0m\u001b[0;34m\u001b[0m\u001b[0m\n\u001b[0;32m--> 803\u001b[0;31m             \u001b[0mmsg_list\u001b[0m \u001b[0;34m=\u001b[0m \u001b[0msocket\u001b[0m\u001b[0;34m.\u001b[0m\u001b[0mrecv_multipart\u001b[0m\u001b[0;34m(\u001b[0m\u001b[0mmode\u001b[0m\u001b[0;34m,\u001b[0m \u001b[0mcopy\u001b[0m\u001b[0;34m=\u001b[0m\u001b[0mcopy\u001b[0m\u001b[0;34m)\u001b[0m\u001b[0;34m\u001b[0m\u001b[0;34m\u001b[0m\u001b[0m\n\u001b[0m\u001b[1;32m    804\u001b[0m         \u001b[0;32mexcept\u001b[0m \u001b[0mzmq\u001b[0m\u001b[0;34m.\u001b[0m\u001b[0mZMQError\u001b[0m \u001b[0;32mas\u001b[0m \u001b[0me\u001b[0m\u001b[0;34m:\u001b[0m\u001b[0;34m\u001b[0m\u001b[0;34m\u001b[0m\u001b[0m\n",
            "\u001b[0;32m/usr/local/lib/python3.6/dist-packages/zmq/sugar/socket.py\u001b[0m in \u001b[0;36mrecv_multipart\u001b[0;34m(self, flags, copy, track)\u001b[0m\n\u001b[1;32m    474\u001b[0m         \"\"\"\n\u001b[0;32m--> 475\u001b[0;31m         \u001b[0mparts\u001b[0m \u001b[0;34m=\u001b[0m \u001b[0;34m[\u001b[0m\u001b[0mself\u001b[0m\u001b[0;34m.\u001b[0m\u001b[0mrecv\u001b[0m\u001b[0;34m(\u001b[0m\u001b[0mflags\u001b[0m\u001b[0;34m,\u001b[0m \u001b[0mcopy\u001b[0m\u001b[0;34m=\u001b[0m\u001b[0mcopy\u001b[0m\u001b[0;34m,\u001b[0m \u001b[0mtrack\u001b[0m\u001b[0;34m=\u001b[0m\u001b[0mtrack\u001b[0m\u001b[0;34m)\u001b[0m\u001b[0;34m]\u001b[0m\u001b[0;34m\u001b[0m\u001b[0;34m\u001b[0m\u001b[0m\n\u001b[0m\u001b[1;32m    476\u001b[0m         \u001b[0;31m# have first part already, only loop while more to receive\u001b[0m\u001b[0;34m\u001b[0m\u001b[0;34m\u001b[0m\u001b[0;34m\u001b[0m\u001b[0m\n",
            "\u001b[0;32mzmq/backend/cython/socket.pyx\u001b[0m in \u001b[0;36mzmq.backend.cython.socket.Socket.recv\u001b[0;34m()\u001b[0m\n",
            "\u001b[0;32mzmq/backend/cython/socket.pyx\u001b[0m in \u001b[0;36mzmq.backend.cython.socket.Socket.recv\u001b[0;34m()\u001b[0m\n",
            "\u001b[0;32mzmq/backend/cython/socket.pyx\u001b[0m in \u001b[0;36mzmq.backend.cython.socket._recv_copy\u001b[0;34m()\u001b[0m\n",
            "\u001b[0;32m/usr/local/lib/python3.6/dist-packages/zmq/backend/cython/checkrc.pxd\u001b[0m in \u001b[0;36mzmq.backend.cython.checkrc._check_rc\u001b[0;34m()\u001b[0m\n",
            "\u001b[0;31mKeyboardInterrupt\u001b[0m: ",
            "\nDuring handling of the above exception, another exception occurred:\n",
            "\u001b[0;31mKeyboardInterrupt\u001b[0m                         Traceback (most recent call last)",
            "\u001b[0;32m<ipython-input-107-0a7a929966b7>\u001b[0m in \u001b[0;36m<module>\u001b[0;34m()\u001b[0m\n\u001b[1;32m      2\u001b[0m \u001b[0mprint\u001b[0m\u001b[0;34m(\u001b[0m\u001b[0;34m\"Hello, I am chatbot. Let me answer any questions you have on this article! If you want to leave at any point, type STOP.\"\u001b[0m\u001b[0;34m)\u001b[0m\u001b[0;34m\u001b[0m\u001b[0;34m\u001b[0m\u001b[0m\n\u001b[1;32m      3\u001b[0m \u001b[0;32mwhile\u001b[0m \u001b[0;34m(\u001b[0m\u001b[0mflag\u001b[0m \u001b[0;34m==\u001b[0m\u001b[0;32mTrue\u001b[0m\u001b[0;34m)\u001b[0m\u001b[0;34m:\u001b[0m\u001b[0;34m\u001b[0m\u001b[0;34m\u001b[0m\u001b[0m\n\u001b[0;32m----> 4\u001b[0;31m   \u001b[0muser_response\u001b[0m \u001b[0;34m=\u001b[0m \u001b[0minput\u001b[0m\u001b[0;34m(\u001b[0m\u001b[0;34m)\u001b[0m\u001b[0;34m\u001b[0m\u001b[0;34m\u001b[0m\u001b[0m\n\u001b[0m\u001b[1;32m      5\u001b[0m   \u001b[0muser_response\u001b[0m \u001b[0;34m=\u001b[0m \u001b[0muser_response\u001b[0m\u001b[0;34m.\u001b[0m\u001b[0mlower\u001b[0m\u001b[0;34m(\u001b[0m\u001b[0;34m)\u001b[0m\u001b[0;34m\u001b[0m\u001b[0;34m\u001b[0m\u001b[0m\n\u001b[1;32m      6\u001b[0m   \u001b[0;32mif\u001b[0m\u001b[0;34m(\u001b[0m\u001b[0muser_response\u001b[0m \u001b[0;34m!=\u001b[0m \u001b[0;34m'STOP'\u001b[0m\u001b[0;34m)\u001b[0m\u001b[0;34m:\u001b[0m\u001b[0;34m\u001b[0m\u001b[0;34m\u001b[0m\u001b[0m\n",
            "\u001b[0;32m/usr/local/lib/python3.6/dist-packages/ipykernel/kernelbase.py\u001b[0m in \u001b[0;36mraw_input\u001b[0;34m(self, prompt)\u001b[0m\n\u001b[1;32m    702\u001b[0m             \u001b[0mself\u001b[0m\u001b[0;34m.\u001b[0m\u001b[0m_parent_ident\u001b[0m\u001b[0;34m,\u001b[0m\u001b[0;34m\u001b[0m\u001b[0;34m\u001b[0m\u001b[0m\n\u001b[1;32m    703\u001b[0m             \u001b[0mself\u001b[0m\u001b[0;34m.\u001b[0m\u001b[0m_parent_header\u001b[0m\u001b[0;34m,\u001b[0m\u001b[0;34m\u001b[0m\u001b[0;34m\u001b[0m\u001b[0m\n\u001b[0;32m--> 704\u001b[0;31m             \u001b[0mpassword\u001b[0m\u001b[0;34m=\u001b[0m\u001b[0;32mFalse\u001b[0m\u001b[0;34m,\u001b[0m\u001b[0;34m\u001b[0m\u001b[0;34m\u001b[0m\u001b[0m\n\u001b[0m\u001b[1;32m    705\u001b[0m         )\n\u001b[1;32m    706\u001b[0m \u001b[0;34m\u001b[0m\u001b[0m\n",
            "\u001b[0;32m/usr/local/lib/python3.6/dist-packages/ipykernel/kernelbase.py\u001b[0m in \u001b[0;36m_input_request\u001b[0;34m(self, prompt, ident, parent, password)\u001b[0m\n\u001b[1;32m    732\u001b[0m             \u001b[0;32mexcept\u001b[0m \u001b[0mKeyboardInterrupt\u001b[0m\u001b[0;34m:\u001b[0m\u001b[0;34m\u001b[0m\u001b[0;34m\u001b[0m\u001b[0m\n\u001b[1;32m    733\u001b[0m                 \u001b[0;31m# re-raise KeyboardInterrupt, to truncate traceback\u001b[0m\u001b[0;34m\u001b[0m\u001b[0;34m\u001b[0m\u001b[0;34m\u001b[0m\u001b[0m\n\u001b[0;32m--> 734\u001b[0;31m                 \u001b[0;32mraise\u001b[0m \u001b[0mKeyboardInterrupt\u001b[0m\u001b[0;34m\u001b[0m\u001b[0;34m\u001b[0m\u001b[0m\n\u001b[0m\u001b[1;32m    735\u001b[0m             \u001b[0;32melse\u001b[0m\u001b[0;34m:\u001b[0m\u001b[0;34m\u001b[0m\u001b[0;34m\u001b[0m\u001b[0m\n\u001b[1;32m    736\u001b[0m                 \u001b[0;32mbreak\u001b[0m\u001b[0;34m\u001b[0m\u001b[0;34m\u001b[0m\u001b[0m\n",
            "\u001b[0;31mKeyboardInterrupt\u001b[0m: "
          ]
        }
      ]
    },
    {
      "cell_type": "code",
      "metadata": {
        "id": "B4jazqcgqe_H",
        "colab_type": "code",
        "colab": {}
      },
      "source": [
        ""
      ],
      "execution_count": null,
      "outputs": []
    }
  ]
}